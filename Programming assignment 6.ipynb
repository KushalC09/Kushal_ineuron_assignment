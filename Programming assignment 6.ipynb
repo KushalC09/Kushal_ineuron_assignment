{
 "cells": [
  {
   "cell_type": "code",
   "execution_count": 31,
   "id": "a2cca51d",
   "metadata": {},
   "outputs": [
    {
     "name": "stdout",
     "output_type": "stream",
     "text": [
      "enter a value : 10\n",
      "Fibonacci sequence is :\n",
      "0\n",
      "1\n",
      "1\n",
      "2\n",
      "3\n",
      "5\n",
      "8\n",
      "13\n",
      "21\n",
      "34\n"
     ]
    }
   ],
   "source": [
    "#1. Write a Python Program to Display Fibonacci Sequence Using Recursion?\n",
    "\n",
    "def Fib_seq(n):\n",
    "   if n <= 1:\n",
    "       return n\n",
    "   else:\n",
    "       return(Fib_seq(n-1) + Fib_seq(n-2))\n",
    "nterms = int(input(\"enter a value : \"))\n",
    "\n",
    "\n",
    "if nterms <= 0:\n",
    "   print(\"Plese enter a positive integer\")\n",
    "else:\n",
    "   print(\"Fibonacci sequence is :\")\n",
    "   for i in range(nterms):\n",
    "       print(Fib_seq(i))    \n"
   ]
  },
  {
   "cell_type": "code",
   "execution_count": 8,
   "id": "0f1e0922",
   "metadata": {},
   "outputs": [
    {
     "data": {
      "text/plain": [
       "1"
      ]
     },
     "execution_count": 8,
     "metadata": {},
     "output_type": "execute_result"
    }
   ],
   "source": [
    "#2. Write a Python Program to Find Factorial of Number Using Recursion?\n",
    "\n",
    "def factorial(n):\n",
    "   if n<0:\n",
    "        print(\"no factorial for -ve no.\")\n",
    "   elif n <= 1:\n",
    "       return 1\n",
    "   else:\n",
    "       return n*factorial(n-1)\n",
    "        \n",
    "factorial(0)"
   ]
  },
  {
   "cell_type": "code",
   "execution_count": 11,
   "id": "c83bee8b",
   "metadata": {},
   "outputs": [
    {
     "data": {
      "text/plain": [
       "22.49134948096886"
      ]
     },
     "execution_count": 11,
     "metadata": {},
     "output_type": "execute_result"
    }
   ],
   "source": [
    "#3. Write a Python Program to calculate your Body Mass Index?\n",
    "\n",
    "def bmi(wt,ht):\n",
    "    ht=ht**2\n",
    "    return wt/ht\n",
    "    \n",
    "bmi(65,1.70)"
   ]
  },
  {
   "cell_type": "code",
   "execution_count": 14,
   "id": "034ff83f",
   "metadata": {},
   "outputs": [
    {
     "data": {
      "text/plain": [
       "1.1461280356782377"
      ]
     },
     "execution_count": 14,
     "metadata": {},
     "output_type": "execute_result"
    }
   ],
   "source": [
    "#4. Write a Python Program to calculate the natural logarithm of any number?\n",
    "\n",
    "import math\n",
    "def log(x,base):\n",
    "    return math.log(x,base)\n",
    "\n",
    "log(14,10)"
   ]
  },
  {
   "cell_type": "code",
   "execution_count": 21,
   "id": "af7ba32e",
   "metadata": {},
   "outputs": [
    {
     "data": {
      "text/plain": [
       "9"
      ]
     },
     "execution_count": 21,
     "metadata": {},
     "output_type": "execute_result"
    }
   ],
   "source": [
    "#5. Write a Python Program for cube sum of first n natural numbers?\n",
    "\n",
    "def number(x):\n",
    "    if x<0:\n",
    "        print(\"please enter a natural number\")\n",
    "    else:\n",
    "        sum = 0\n",
    "        for i in range(1,x+1):\n",
    "            sum+=pow(i,3)\n",
    "        return sum\n",
    "\n",
    "number(2)        \n",
    "        "
   ]
  },
  {
   "cell_type": "code",
   "execution_count": null,
   "id": "13cb1978",
   "metadata": {},
   "outputs": [],
   "source": []
  }
 ],
 "metadata": {
  "kernelspec": {
   "display_name": "Python 3 (ipykernel)",
   "language": "python",
   "name": "python3"
  },
  "language_info": {
   "codemirror_mode": {
    "name": "ipython",
    "version": 3
   },
   "file_extension": ".py",
   "mimetype": "text/x-python",
   "name": "python",
   "nbconvert_exporter": "python",
   "pygments_lexer": "ipython3",
   "version": "3.9.12"
  }
 },
 "nbformat": 4,
 "nbformat_minor": 5
}
